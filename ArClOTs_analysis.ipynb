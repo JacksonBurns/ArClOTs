{
 "cells": [
  {
   "cell_type": "markdown",
   "metadata": {},
   "source": [
    "### Welcome to the Aryl Chloro/Tosyl (ArClOTs) Selectivity Analysis Project\n",
    "#### Purpose\n",
    "The intent of this notebook is two-fold:\n",
    "1. Investigate the reactivity of various phosphine ligands in a selected reaction to determine an ideal candidate for selective reactions.\n",
    "2. Serve as an example of machine learning in small-molecule organic chemistry.\n",
    "\n",
    "#### Running this Code\n",
    "Via _Binder_ you can execute this entire script in your browser with no manual setup required, just some waiting while things are downloaded in the background. After this initial setup, you can scroll through the entire script, see how things work, and play around with different values to see how things change.\n",
    "\n",
    "#### Documentation\n",
    "There is a lot of explanation included around all of the code below to help you work through things line for line, with the idea being that you should be left with questions that you can Google and not anything more foudnational."
   ]
  },
  {
   "cell_type": "markdown",
   "metadata": {},
   "source": [
    "##### Step 1: Loading Libraries\n",
    "All machine learnings algorithms and chemistry tools that we need have (thankfully) already been written by other people, so all we need to do is install them to our notebook here and them use them freely. Here are some brief explanations of what each of these libraries is for:\n",
    " - matplotlib: makes plots\n",
    " - pandas: interfacing with excel workbooks\n",
    " - numpy: adds more datatypes to python, which need in order to store our data\n",
    " - sklearn: has all of the machine learning algorithms\n",
    " - rdkit: the infamous cheminformatics software package for loading SMILES strings into various computer-readable formats\n",
    " - openpyxl: reading and writing excel files\n",
    " - ccmblib: handy interface to RDKit to make fingerprint generation easier"
   ]
  },
  {
   "cell_type": "code",
   "execution_count": 1,
   "metadata": {},
   "outputs": [],
   "source": [
    "%%capture\n",
    "# the above line just prevents you from getting hundreds of lines of output from the downloaders\n",
    "!conda install --yes -c rdkit rdkit\n",
    "!pip install matplotlib pandas numpy sklearn openpyxl\n",
    "!pip install git+https://github.com/vogt-m/ccbmlib\n",
    "!conda install -y boost-cpp boost py-boost"
   ]
  },
  {
   "cell_type": "markdown",
   "metadata": {},
   "source": [
    "##### Step 2: Getting our Data out of Excel\n",
    "Right now, we have an excel sheet with two important columns: SMILES strings for the ligands, and the Cl:OTs selectivity. In order to get this data into Python, we use pandas like this:"
   ]
  },
  {
   "cell_type": "code",
   "execution_count": 2,
   "metadata": {},
   "outputs": [
    {
     "data": {
      "text/html": [
       "<div>\n",
       "<style scoped>\n",
       "    .dataframe tbody tr th:only-of-type {\n",
       "        vertical-align: middle;\n",
       "    }\n",
       "\n",
       "    .dataframe tbody tr th {\n",
       "        vertical-align: top;\n",
       "    }\n",
       "\n",
       "    .dataframe thead th {\n",
       "        text-align: right;\n",
       "    }\n",
       "</style>\n",
       "<table border=\"1\" class=\"dataframe\">\n",
       "  <thead>\n",
       "    <tr style=\"text-align: right;\">\n",
       "      <th></th>\n",
       "      <th>idx</th>\n",
       "      <th>ligand_name</th>\n",
       "      <th>ligand_smiles</th>\n",
       "      <th>cl_to_ots_selectivity</th>\n",
       "    </tr>\n",
       "  </thead>\n",
       "  <tbody>\n",
       "    <tr>\n",
       "      <th>0</th>\n",
       "      <td>1</td>\n",
       "      <td>PPh3</td>\n",
       "      <td>P(C1=CC=CC=C1)(C2=CC=CC=C2)C3=CC=CC=C3</td>\n",
       "      <td>99.000000</td>\n",
       "    </tr>\n",
       "    <tr>\n",
       "      <th>1</th>\n",
       "      <td>2</td>\n",
       "      <td>P(p-OMePh)3</td>\n",
       "      <td>COC(C=C1)=CC=C1P(C2=CC=C(OC)C=C2)C3=CC=C(OC)C=C3</td>\n",
       "      <td>99.000000</td>\n",
       "    </tr>\n",
       "    <tr>\n",
       "      <th>2</th>\n",
       "      <td>3</td>\n",
       "      <td>P(p-FPh)3</td>\n",
       "      <td>FC(C=C1)=CC=C1P(C2=CC=C(F)C=C2)C3=CC=C(F)C=C3</td>\n",
       "      <td>99.000000</td>\n",
       "    </tr>\n",
       "    <tr>\n",
       "      <th>3</th>\n",
       "      <td>4</td>\n",
       "      <td>PPhMe2</td>\n",
       "      <td>CP(C)C1=CC=CC=C1</td>\n",
       "      <td>0.175439</td>\n",
       "    </tr>\n",
       "    <tr>\n",
       "      <th>4</th>\n",
       "      <td>5</td>\n",
       "      <td>PPhEt2</td>\n",
       "      <td>CCP(C1=CC=CC=C1)CC</td>\n",
       "      <td>2.200000</td>\n",
       "    </tr>\n",
       "    <tr>\n",
       "      <th>5</th>\n",
       "      <td>6</td>\n",
       "      <td>PPh2Me</td>\n",
       "      <td>CCP(C1=CC=CC=C1)C2=CC=CC=C2</td>\n",
       "      <td>1.000000</td>\n",
       "    </tr>\n",
       "    <tr>\n",
       "      <th>6</th>\n",
       "      <td>7</td>\n",
       "      <td>PCy3</td>\n",
       "      <td>P(C1CCCCC1)(C2CCCCC2)C3CCCCC3</td>\n",
       "      <td>1.500000</td>\n",
       "    </tr>\n",
       "    <tr>\n",
       "      <th>7</th>\n",
       "      <td>8</td>\n",
       "      <td>P(n-Bu)3</td>\n",
       "      <td>CCCCP(CCCC)CCCC</td>\n",
       "      <td>1.100000</td>\n",
       "    </tr>\n",
       "    <tr>\n",
       "      <th>8</th>\n",
       "      <td>9</td>\n",
       "      <td>P(i-bu)3</td>\n",
       "      <td>CC(C)CP(CC(C)C)CC(C)C</td>\n",
       "      <td>2.900000</td>\n",
       "    </tr>\n",
       "    <tr>\n",
       "      <th>9</th>\n",
       "      <td>10</td>\n",
       "      <td>Bis(dicyclohexylphosphino)ferrocene</td>\n",
       "      <td>C1=CC=C(C=C1)P([C-]2C=CC=C2)C3=CC=CC=C3.C1=CC=...</td>\n",
       "      <td>99.000000</td>\n",
       "    </tr>\n",
       "    <tr>\n",
       "      <th>10</th>\n",
       "      <td>11</td>\n",
       "      <td>PEt3</td>\n",
       "      <td>CCP(CC)CC</td>\n",
       "      <td>1.800000</td>\n",
       "    </tr>\n",
       "    <tr>\n",
       "      <th>11</th>\n",
       "      <td>12</td>\n",
       "      <td>PMe3</td>\n",
       "      <td>CP(C)C</td>\n",
       "      <td>0.158730</td>\n",
       "    </tr>\n",
       "  </tbody>\n",
       "</table>\n",
       "</div>"
      ],
      "text/plain": [
       "    idx                          ligand_name  \\\n",
       "0     1                                 PPh3   \n",
       "1     2                          P(p-OMePh)3   \n",
       "2     3                            P(p-FPh)3   \n",
       "3     4                               PPhMe2   \n",
       "4     5                               PPhEt2   \n",
       "5     6                               PPh2Me   \n",
       "6     7                                 PCy3   \n",
       "7     8                             P(n-Bu)3   \n",
       "8     9                             P(i-bu)3   \n",
       "9    10  Bis(dicyclohexylphosphino)ferrocene   \n",
       "10   11                                 PEt3   \n",
       "11   12                                 PMe3   \n",
       "\n",
       "                                        ligand_smiles  cl_to_ots_selectivity  \n",
       "0              P(C1=CC=CC=C1)(C2=CC=CC=C2)C3=CC=CC=C3              99.000000  \n",
       "1    COC(C=C1)=CC=C1P(C2=CC=C(OC)C=C2)C3=CC=C(OC)C=C3              99.000000  \n",
       "2       FC(C=C1)=CC=C1P(C2=CC=C(F)C=C2)C3=CC=C(F)C=C3              99.000000  \n",
       "3                                    CP(C)C1=CC=CC=C1               0.175439  \n",
       "4                                  CCP(C1=CC=CC=C1)CC               2.200000  \n",
       "5                         CCP(C1=CC=CC=C1)C2=CC=CC=C2               1.000000  \n",
       "6                       P(C1CCCCC1)(C2CCCCC2)C3CCCCC3               1.500000  \n",
       "7                                     CCCCP(CCCC)CCCC               1.100000  \n",
       "8                               CC(C)CP(CC(C)C)CC(C)C               2.900000  \n",
       "9   C1=CC=C(C=C1)P([C-]2C=CC=C2)C3=CC=CC=C3.C1=CC=...              99.000000  \n",
       "10                                          CCP(CC)CC               1.800000  \n",
       "11                                             CP(C)C               0.158730  "
      ]
     },
     "execution_count": 2,
     "metadata": {},
     "output_type": "execute_result"
    }
   ],
   "source": [
    "import pandas\n",
    "data = pandas.read_excel(\"data/original_paper_data.xlsx\", engine='openpyxl')\n",
    "data"
   ]
  },
  {
   "cell_type": "markdown",
   "metadata": {},
   "source": [
    "Now let's get the SMILES strings into a list, as well as the selectivity values."
   ]
  },
  {
   "cell_type": "code",
   "execution_count": 3,
   "metadata": {},
   "outputs": [
    {
     "data": {
      "text/plain": [
       "array(['P(C1=CC=CC=C1)(C2=CC=CC=C2)C3=CC=CC=C3',\n",
       "       'COC(C=C1)=CC=C1P(C2=CC=C(OC)C=C2)C3=CC=C(OC)C=C3',\n",
       "       'FC(C=C1)=CC=C1P(C2=CC=C(F)C=C2)C3=CC=C(F)C=C3',\n",
       "       'CP(C)C1=CC=CC=C1', 'CCP(C1=CC=CC=C1)CC',\n",
       "       'CCP(C1=CC=CC=C1)C2=CC=CC=C2', 'P(C1CCCCC1)(C2CCCCC2)C3CCCCC3',\n",
       "       'CCCCP(CCCC)CCCC', 'CC(C)CP(CC(C)C)CC(C)C',\n",
       "       'C1=CC=C(C=C1)P([C-]2C=CC=C2)C3=CC=CC=C3.C1=CC=C(C=C1)P([C-]2C=CC=C2)C3=CC=CC=C3.[Fe+2]',\n",
       "       'CCP(CC)CC', 'CP(C)C'], dtype=object)"
      ]
     },
     "execution_count": 3,
     "metadata": {},
     "output_type": "execute_result"
    }
   ],
   "source": [
    "smiles = data[\"ligand_smiles\"].to_numpy()\n",
    "smiles"
   ]
  },
  {
   "cell_type": "code",
   "execution_count": 4,
   "metadata": {},
   "outputs": [
    {
     "data": {
      "text/plain": [
       "array([99.        , 99.        , 99.        ,  0.1754386 ,  2.2       ,\n",
       "        1.        ,  1.5       ,  1.1       ,  2.9       , 99.        ,\n",
       "        1.8       ,  0.15873016])"
      ]
     },
     "execution_count": 4,
     "metadata": {},
     "output_type": "execute_result"
    }
   ],
   "source": [
    "selectivity = data[\"cl_to_ots_selectivity\"].to_numpy()\n",
    "selectivity"
   ]
  },
  {
   "cell_type": "markdown",
   "metadata": {},
   "source": [
    "##### Step 3: Change the SMILES Strings into Descriptors\n",
    "Your computer needs to have some representation of the molecules in order to draw conclusions about the reactivity; for this, we use rdkit. This package allows us to generate digital representations of the molecules using fingerprints. To do so, we follow this general procedure:\n",
    "1. import the functions from rdkit that we need to use\n",
    "2. Make two empty lists to store our molecules and ginerprints.\n",
    "3. for each of the SMILES strings, generate a molecule\n",
    "4. for each of the molecules, generate a molecular fingerprint"
   ]
  },
  {
   "cell_type": "code",
   "execution_count": 19,
   "metadata": {},
   "outputs": [],
   "source": [
    "from rdkit import Chem\n",
    "from rdkit.Chem import AllChem, DataStructs\n",
    "import numpy as np\n",
    "\n",
    "molecules = []\n",
    "fingerprints = []\n",
    "\n",
    "for smile in smiles:\n",
    "    molecules.append(Chem.MolFromSmiles(smile))\n",
    "\n",
    "for molecule in molecules:\n",
    "    # start by generating the fingerprint as a bit vector, which is a list of 1's and 0's\n",
    "    temp_fingerprint = AllChem.GetMorganFingerprintAsBitVect(molecule, 2)\n",
    "    \n",
    "    # in order to use this later, we need to convert it into an array. to begin, make an empty array\n",
    "    temp_array = np.array((0,), dtype=np.int8)\n",
    "    \n",
    "    # put the fingerprint into the array\n",
    "    DataStructs.ConvertToNumpyArray(temp_fingerprint, temp_array)\n",
    "    \n",
    "    # save this temporary array into the fingerprint array\n",
    "    fingerprints.append(temp_array)"
   ]
  },
  {
   "cell_type": "markdown",
   "metadata": {},
   "source": [
    "Take a look at the cell below, which shows what the fingerprints array _actually looks like_. It is a list, and every component of the list is itself a list of 1's and 0's. Each of those sub-lists represents one of the molecules in our dataset, and the computer can interpret the 1's and 0's, as well as their relative placement to one another, as a molecule."
   ]
  },
  {
   "cell_type": "code",
   "execution_count": 20,
   "metadata": {},
   "outputs": [
    {
     "data": {
      "text/plain": [
       "[array([0, 0, 0, ..., 0, 0, 0], dtype=int8),\n",
       " array([0, 0, 0, ..., 0, 0, 0], dtype=int8),\n",
       " array([0, 0, 0, ..., 0, 0, 0], dtype=int8),\n",
       " array([0, 0, 0, ..., 0, 0, 0], dtype=int8),\n",
       " array([0, 0, 0, ..., 0, 0, 0], dtype=int8),\n",
       " array([0, 0, 0, ..., 0, 0, 0], dtype=int8),\n",
       " array([0, 0, 1, ..., 0, 0, 0], dtype=int8),\n",
       " array([0, 0, 0, ..., 1, 0, 0], dtype=int8),\n",
       " array([0, 1, 0, ..., 0, 0, 0], dtype=int8),\n",
       " array([0, 0, 0, ..., 0, 0, 0], dtype=int8),\n",
       " array([0, 0, 0, ..., 0, 0, 0], dtype=int8),\n",
       " array([0, 0, 0, ..., 0, 0, 0], dtype=int8)]"
      ]
     },
     "execution_count": 20,
     "metadata": {},
     "output_type": "execute_result"
    }
   ],
   "source": [
    "fingerprints"
   ]
  },
  {
   "cell_type": "markdown",
   "metadata": {},
   "source": [
    "### To-Do List\n",
    " - add section for fingerprinting with ccbmlib, which does not guarantee uniform-length outputs and will therefore necessitate zero padding.",
    " - switch descriptor calculation to PADEL-Py"
   ]
  }
 ],
 "metadata": {
  "kernelspec": {
   "display_name": "Python [conda env:.conda-arclots-env] *",
   "language": "python",
   "name": "conda-env-.conda-arclots-env-py"
  },
  "language_info": {
   "codemirror_mode": {
    "name": "ipython",
    "version": 3
   },
   "file_extension": ".py",
   "mimetype": "text/x-python",
   "name": "python",
   "nbconvert_exporter": "python",
   "pygments_lexer": "ipython3",
   "version": "3.7.9"
  }
 },
 "nbformat": 4,
 "nbformat_minor": 4
}
